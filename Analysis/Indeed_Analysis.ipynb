{
 "cells": [
  {
   "cell_type": "markdown",
   "id": "a55ac1df",
   "metadata": {},
   "source": [
    "# Indeed Job Analysis"
   ]
  },
  {
   "cell_type": "markdown",
   "id": "cddb8a1b",
   "metadata": {},
   "source": [
    "## Imports"
   ]
  },
  {
   "cell_type": "code",
   "execution_count": 8,
   "id": "1728d692",
   "metadata": {},
   "outputs": [],
   "source": [
    "# Pandas is an open source data analysis and manipulation tool\n",
    "import pandas as pd \n",
    "\n",
    "# os gives access to the operating system\n",
    "import os\n",
    "\n",
    "# regex library\n",
    "import re\n",
    "\n",
    "# Natural language toolkit\n",
    "from nltk.tokenize import word_tokenize\n",
    "from nltk.corpus import stopwords\n",
    "\n",
    "# library to create visualizations\n",
    "import seaborn\n",
    "# library to create visualizations\n",
    "import matplotlib.pyplot as plt\n",
    "\n",
    "\n",
    "# only run below once\n",
    "#import nltk\n",
    "#nltk.download(\"punkt\")\n",
    "#nltk.download(\"stopwords\")"
   ]
  },
  {
   "cell_type": "markdown",
   "id": "252b3b0b",
   "metadata": {},
   "source": [
    "## Load data"
   ]
  },
  {
   "cell_type": "code",
   "execution_count": 21,
   "id": "b57b22b2",
   "metadata": {},
   "outputs": [],
   "source": [
    "# folder path to data\n",
    "folder_path = \"/Users/jan/Documents/7.Semester/Datenanalyse in der Praxis/SeminarArbeit/Data\"\n",
    "# change directory to folder path\n",
    "os.chdir(folder_path)\n",
    "# initialize list for all csvs\n",
    "All_CSVs=[]\n",
    "#iterate over every file in folder\n",
    "for file in os.listdir():\n",
    "    if file.endswith(\".csv\"):   \n",
    "        # csv to dataframe\n",
    "        df =pd.read_csv(file, index_col=[0], header=0)\n",
    "        # append data frame to all csvs list\n",
    "        All_CSVs.append(df)\n",
    "# concat all jobs to one data frame\n",
    "all_jobs = pd.concat(All_CSVs, axis=0, ignore_index=True)\n",
    "\n",
    "# drop duplicates\n",
    "all_jobs = all_jobs.drop_duplicates(subset=[\"1\",\"2\",\"5\"],keep=\"last\")\n",
    "\n",
    "# reindex\n",
    "all_jobs = all_jobs.reset_index(drop=True)\n",
    "\n",
    "# rename\n",
    "all_jobs = all_jobs.rename(columns={'0': 'job_id',\"1\" : \"job_title\",\"2\" : \"company_name\",\"3\" : \"company_location\",\"4\" : \"type_of_job\",\"5\" : \"job_description\",\"6\" : \"date_info\"})\n",
    "\n"
   ]
  },
  {
   "cell_type": "code",
   "execution_count": 16,
   "id": "266e471d",
   "metadata": {},
   "outputs": [
    {
     "name": "stdout",
     "output_type": "stream",
     "text": [
      "<class 'pandas.core.frame.DataFrame'>\n",
      "RangeIndex: 38 entries, 0 to 37\n",
      "Data columns (total 6 columns):\n",
      " #   Column            Non-Null Count  Dtype \n",
      "---  ------            --------------  ----- \n",
      " 0   job_title         38 non-null     object\n",
      " 1   company_name      38 non-null     object\n",
      " 2   company_location  11 non-null     object\n",
      " 3   type_of_job       9 non-null      object\n",
      " 4   job_description   38 non-null     object\n",
      " 5   date_info         38 non-null     object\n",
      "dtypes: object(6)\n",
      "memory usage: 1.9+ KB\n"
     ]
    }
   ],
   "source": [
    "all_jobs.info()"
   ]
  },
  {
   "cell_type": "markdown",
   "id": "8ecfca5f",
   "metadata": {},
   "source": [
    "## Clean Data"
   ]
  },
  {
   "cell_type": "markdown",
   "id": "762d2985",
   "metadata": {},
   "source": [
    "### Clean Job Title"
   ]
  },
  {
   "cell_type": "code",
   "execution_count": 22,
   "id": "4d6b4a7f",
   "metadata": {},
   "outputs": [],
   "source": [
    "all_jobs[\"job_title\"] =  all_jobs[\"job_title\"].astype(str)\n",
    "all_jobs[\"job_title\"] =  all_jobs[\"job_title\"].str.replace(\"\\n- job post\" , \"\")\n",
    "all_jobs[\"job_title\"] =  all_jobs[\"job_title\"].str.replace(\"\\([mwdf]\\/[mwdf]\\/[mwdf]\\)\" , \"\", regex=True)"
   ]
  },
  {
   "cell_type": "markdown",
   "id": "9e288e49",
   "metadata": {},
   "source": [
    "### Clean job_description"
   ]
  },
  {
   "cell_type": "code",
   "execution_count": 23,
   "id": "fbe35b6e",
   "metadata": {},
   "outputs": [],
   "source": [
    "all_jobs[\"job_description\"] =all_jobs[\"job_description\"].astype(str)"
   ]
  },
  {
   "cell_type": "markdown",
   "id": "e04bb41d",
   "metadata": {},
   "source": [
    "## Job Titles"
   ]
  },
  {
   "cell_type": "code",
   "execution_count": 24,
   "id": "0ca4aa1a",
   "metadata": {},
   "outputs": [
    {
     "data": {
      "text/plain": [
       "Data Analyst                                  19\n",
       "(Junior) Data Analyst                          3\n",
       "Pricing Data Analyst                           2\n",
       "Controlling Analyst                            2\n",
       "Junior Data Analyst                            2\n",
       "Data Analyst  im Controlling                   2\n",
       "Data Analyst (gn)                              2\n",
       "Werkstudent Data Analyst                       2\n",
       "Junior Data Analyst - IT / Date Science        2\n",
       "(Junior) Research Data (Insights) Analyst      2\n",
       "Name: job_title, dtype: int64"
      ]
     },
     "execution_count": 24,
     "metadata": {},
     "output_type": "execute_result"
    }
   ],
   "source": [
    "all_jobs.job_title.value_counts().head(10)"
   ]
  },
  {
   "cell_type": "markdown",
   "id": "4b8768e7",
   "metadata": {},
   "source": [
    "## Top hiring companies"
   ]
  },
  {
   "cell_type": "code",
   "execution_count": 25,
   "id": "fa281c68",
   "metadata": {},
   "outputs": [
    {
     "data": {
      "text/plain": [
       "Handelsblatt GmbH        6\n",
       "ALDI SÜD                 4\n",
       "CareerFoundry GmbH       3\n",
       "Munich RE                3\n",
       "PayFit                   2\n",
       "ABOUT YOU SE & Co. KG    2\n",
       "XTP AG                   2\n",
       "Morningstar              2\n",
       "Zalando                  2\n",
       "DB Schenker              2\n",
       "Name: company_name, dtype: int64"
      ]
     },
     "execution_count": 25,
     "metadata": {},
     "output_type": "execute_result"
    }
   ],
   "source": [
    "all_jobs.company_name.value_counts().head(10)"
   ]
  },
  {
   "cell_type": "markdown",
   "id": "df77d6b6",
   "metadata": {},
   "source": [
    "# Analysis"
   ]
  },
  {
   "cell_type": "code",
   "execution_count": 26,
   "id": "fe915744",
   "metadata": {},
   "outputs": [],
   "source": [
    "# keyword to search for\n",
    "keywords = [\"excel\" , \"python\" , \"r\" ,\"matlab\", \"ai\", \"ki\", \"mysql\" , \"linux\", \"c\",\n",
    "            \"visio\", \"java\", \"javascript\", \"vba\", \"powerpoint\", \"github\", \"git\", \"gitlab\",\n",
    "            \"sql\", \"mysql\", \"sqlight\"]"
   ]
  },
  {
   "cell_type": "markdown",
   "id": "3fbe895a",
   "metadata": {},
   "source": [
    "### Tokenize description"
   ]
  },
  {
   "cell_type": "code",
   "execution_count": 27,
   "id": "d73d146b",
   "metadata": {},
   "outputs": [],
   "source": [
    "# create new column for tokens\n",
    "all_jobs[\"tokenized_description\"] = \"\"\n",
    "# iterate over rows\n",
    "for index, row in all_jobs.iterrows():\n",
    "    # lower all words\n",
    "    description = row.job_description.lower()\n",
    "    \n",
    "    # tokenize description\n",
    "    description = word_tokenize(description)\n",
    "    \n",
    "    # remove duplicates\n",
    "    description = list(set(description))\n",
    "    \n",
    "    # remove stopwords etc (english)\n",
    "    description = [word for word in description if word not in stopwords.words(\"english\")]\n",
    "    \n",
    "    # remove stopwords etc (german)\n",
    "    description = [word for word in description if word not in stopwords.words(\"german\")]\n",
    "    \n",
    "    # add to new \"tokenized_description\" column\n",
    "    row.tokenized_description=description\n",
    "    \n",
    "    "
   ]
  },
  {
   "cell_type": "markdown",
   "id": "118334f5",
   "metadata": {},
   "source": [
    "### Count keywords"
   ]
  },
  {
   "cell_type": "code",
   "execution_count": 28,
   "id": "bd6d2939",
   "metadata": {},
   "outputs": [
    {
     "data": {
      "image/png": "[encoded data removed]",
      "text/plain": [
       "<Figure size 432x288 with 1 Axes>"
      ]
     },
     "metadata": {
      "needs_background": "light"
     },
     "output_type": "display_data"
    },
    {
     "name": "stdout",
     "output_type": "stream",
     "text": [
      "        keywords  counts  percentage\n",
      "15           sql      98   47.804878\n",
      "27        python      74   36.097561\n",
      "80         excel      47   22.926829\n",
      "138            r      38   18.536585\n",
      "731          vba      13    6.341463\n",
      "871   powerpoint      11    5.365854\n",
      "1080           c       9    4.390244\n",
      "1132        java       9    4.390244\n",
      "1133  javascript       9    4.390244\n",
      "1326       mysql       8    3.902439\n"
     ]
    }
   ],
   "source": [
    "#get all keywords\n",
    "count_keywords=pd.DataFrame(all_jobs.tokenized_description.sum()).value_counts().rename_axis(\"keywords\").reset_index(name=\"counts\")\n",
    "length =len(all_jobs)\n",
    "\n",
    "count_keywords[\"percentage\"] = 100 * count_keywords.counts / length\n",
    "\n",
    "# plotting\n",
    "count_keywords = count_keywords[count_keywords.keywords.isin(keywords)]\n",
    "count_keywords = count_keywords.head(10)\n",
    "\n",
    "graph = seaborn.barplot(x=\"keywords\", y=\"percentage\", data = count_keywords)\n",
    "graph.set_xticklabels(graph.get_xticklabels(), \n",
    "                        rotation=45, \n",
    "                        horizontalalignment='right')\n",
    "plt.xlabel(\"\")\n",
    "plt.ylabel(\"Likelyhood to be in job posting (%)\")\n",
    "plt.title(\"Data Analyst Skills\") \n",
    "plt.show(graph)\n",
    "print(count_keywords)\n",
    "\n"
   ]
  }
 ],
 "metadata": {
  "kernelspec": {
   "display_name": "Python 3",
   "language": "python",
   "name": "python3"
  },
  "language_info": {
   "codemirror_mode": {
    "name": "ipython",
    "version": 3
   },
   "file_extension": ".py",
   "mimetype": "text/x-python",
   "name": "python",
   "nbconvert_exporter": "python",
   "pygments_lexer": "ipython3",
   "version": "3.8.8"
  }
 },
 "nbformat": 4,
 "nbformat_minor": 5
}
