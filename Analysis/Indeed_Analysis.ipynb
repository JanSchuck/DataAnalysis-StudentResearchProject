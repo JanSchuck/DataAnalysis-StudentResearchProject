{
 "cells": [
  {
   "cell_type": "markdown",
   "id": "a55ac1df",
   "metadata": {},
   "source": [
    "# Indeed Job Analysis"
   ]
  },
  {
   "cell_type": "markdown",
   "id": "cddb8a1b",
   "metadata": {},
   "source": [
    "## Imports"
   ]
  },
  {
   "cell_type": "code",
   "execution_count": 2,
   "id": "1728d692",
   "metadata": {},
   "outputs": [],
   "source": [
    "# Pandas is an open source data analysis and manipulation tool\n",
    "import pandas as pd \n",
    "\n",
    "# os gives access to the operating system\n",
    "import os\n",
    "\n",
    "# regex library\n",
    "import re\n",
    "\n",
    "# Natural language toolkit\n",
    "from nltk.tokenize import word_tokenize,MWETokenizer\n",
    "from nltk.corpus import stopwords\n",
    "\n",
    "# library to create visualizations\n",
    "import seaborn\n",
    "# library to create visualizations\n",
    "import matplotlib.pyplot as plt\n",
    "\n",
    "# library for lists\n",
    "import numpy as np\n",
    "\n",
    "#library to create wordclouds\n",
    "from wordcloud import WordCloud\n",
    "\n",
    "# only run below once\n",
    "#import nltk\n",
    "#nltk.download(\"punkt\")\n",
    "#nltk.download(\"stopwords\")"
   ]
  },
  {
   "cell_type": "markdown",
   "id": "252b3b0b",
   "metadata": {},
   "source": [
    "## Load data"
   ]
  },
  {
   "cell_type": "code",
   "execution_count": 16,
   "id": "b57b22b2",
   "metadata": {},
   "outputs": [],
   "source": [
    "# folder path to data\n",
    "folder_path = \"/Users/jan/Documents/7.Semester/Datenanalyse in der Praxis/SeminarArbeit/Data\"\n",
    "# change directory to folder path\n",
    "os.chdir(folder_path)\n",
    "# initialize list for all csvs\n",
    "All_CSVs=[]\n",
    "#iterate over every file in folder\n",
    "for file in os.listdir():\n",
    "    if file.endswith(\"All_Jobs.csv\"):\n",
    "        break\n",
    "    if file.endswith(\".csv\"):   \n",
    "        # csv to dataframe\n",
    "        df =pd.read_csv(file, index_col=[0], header=0)\n",
    "        # append data frame to all csvs list\n",
    "        All_CSVs.append(df)\n",
    "# concat all jobs to one data frame\n",
    "all_jobs = pd.concat(All_CSVs, axis=0, ignore_index=True)\n",
    "\n",
    "# drop duplicates\n",
    "all_jobs = all_jobs.drop_duplicates(subset=[\"1\",\"2\",\"5\"],keep=\"last\")\n",
    "\n",
    "# reindex\n",
    "all_jobs = all_jobs.reset_index(drop=True)\n",
    "\n",
    "# rename\n",
    "all_jobs = all_jobs.rename(columns={'0': 'job_id',\"1\" : \"job_title\",\"2\" : \"company_name\",\"3\" : \"company_location\",\n",
    "                                    \"4\" : \"type_of_job\",\"5\" : \"job_description\",\"6\" : \"date_info\"})"
   ]
  },
  {
   "cell_type": "code",
   "execution_count": 17,
   "id": "266e471d",
   "metadata": {},
   "outputs": [
    {
     "name": "stdout",
     "output_type": "stream",
     "text": [
      "<class 'pandas.core.frame.DataFrame'>\n",
      "RangeIndex: 347 entries, 0 to 346\n",
      "Data columns (total 6 columns):\n",
      " #   Column            Non-Null Count  Dtype \n",
      "---  ------            --------------  ----- \n",
      " 0   job_title         347 non-null    object\n",
      " 1   company_name      345 non-null    object\n",
      " 2   company_location  98 non-null     object\n",
      " 3   type_of_job       93 non-null     object\n",
      " 4   job_description   347 non-null    object\n",
      " 5   date_info         347 non-null    object\n",
      "dtypes: object(6)\n",
      "memory usage: 16.4+ KB\n"
     ]
    }
   ],
   "source": [
    "all_jobs.info()"
   ]
  },
  {
   "cell_type": "markdown",
   "id": "8ecfca5f",
   "metadata": {},
   "source": [
    "## Clean Data"
   ]
  },
  {
   "cell_type": "markdown",
   "id": "762d2985",
   "metadata": {},
   "source": [
    "### Clean Job Title"
   ]
  },
  {
   "cell_type": "code",
   "execution_count": 18,
   "id": "4d6b4a7f",
   "metadata": {},
   "outputs": [],
   "source": [
    "all_jobs[\"job_title\"] =  all_jobs[\"job_title\"].astype(str)\n",
    "all_jobs[\"job_title\"] =  all_jobs[\"job_title\"].str.replace(\"\\n- job post\" , \"\")\n",
    "all_jobs[\"job_title\"] =  all_jobs[\"job_title\"].str.replace(\"\\([mwdf]\\/[mwdf]\\/[mwdf]\\)\" , \"\", regex=True)"
   ]
  },
  {
   "cell_type": "markdown",
   "id": "9e288e49",
   "metadata": {},
   "source": [
    "### Clean job_description"
   ]
  },
  {
   "cell_type": "code",
   "execution_count": 19,
   "id": "fbe35b6e",
   "metadata": {},
   "outputs": [],
   "source": [
    "all_jobs[\"job_description\"] =all_jobs[\"job_description\"].astype(str)"
   ]
  },
  {
   "cell_type": "markdown",
   "id": "352bedac",
   "metadata": {},
   "source": [
    "## Save all_jobs as CSV"
   ]
  },
  {
   "cell_type": "code",
   "execution_count": 20,
   "id": "e9580687",
   "metadata": {},
   "outputs": [],
   "source": [
    "all_jobs.to_csv(\"/Users/jan/Documents/7.Semester/Datenanalyse in der Praxis/SeminarArbeit/Data/All_Jobs.csv\")"
   ]
  },
  {
   "cell_type": "markdown",
   "id": "9af0a8fd",
   "metadata": {},
   "source": [
    "## Analysis"
   ]
  },
  {
   "cell_type": "markdown",
   "id": "e04bb41d",
   "metadata": {},
   "source": [
    "### Job Titles"
   ]
  },
  {
   "cell_type": "code",
   "execution_count": 15,
   "id": "0ca4aa1a",
   "metadata": {},
   "outputs": [
    {
     "data": {
      "text/plain": [
       "Data Analyst                                                            8\n",
       "Business Analyst                                                        5\n",
       "Data Engineer                                                           3\n",
       "Data Analyst (gn)                                                       2\n",
       "Internship Data Analyst - Purchasing BI                                 2\n",
       "Business Analyst Intern                                                 2\n",
       "Topic Owner / Product Manager (Conversion) (gn)                         2\n",
       "Senior Data Engineer                                                    2\n",
       "Digital Transformation Lead Consultant & SAP Analyst  - Sykatec GmbH    2\n",
       "Data Engineer (m/f/x)                                                   2\n",
       "Name: job_title, dtype: int64"
      ]
     },
     "execution_count": 15,
     "metadata": {},
     "output_type": "execute_result"
    }
   ],
   "source": [
    "all_jobs.job_title.value_counts().head(10)"
   ]
  },
  {
   "cell_type": "markdown",
   "id": "4b8768e7",
   "metadata": {},
   "source": [
    "### Top hiring companies"
   ]
  },
  {
   "cell_type": "code",
   "execution_count": 9,
   "id": "fa281c68",
   "metadata": {},
   "outputs": [
    {
     "data": {
      "text/plain": [
       "Arvato infoscore GmbH    7\n",
       "Salesforce               6\n",
       "Handelsblatt GmbH        6\n",
       "AUTO1 Group SE           6\n",
       "Delivery Hero            5\n",
       "TUI                      5\n",
       "wefox                    5\n",
       "Solactive AG             5\n",
       "Taxfix                   4\n",
       "Raisin                   4\n",
       "Name: company_name, dtype: int64"
      ]
     },
     "execution_count": 9,
     "metadata": {},
     "output_type": "execute_result"
    }
   ],
   "source": [
    "all_jobs.company_name.value_counts().head(10) "
   ]
  },
  {
   "cell_type": "markdown",
   "id": "72c35e30",
   "metadata": {},
   "source": [
    "### Top hiring locations"
   ]
  },
  {
   "cell_type": "code",
   "execution_count": 75,
   "id": "d21e9d51",
   "metadata": {},
   "outputs": [
    {
     "name": "stdout",
     "output_type": "stream",
     "text": [
      "berlin               37\n",
      "homeoffice           16\n",
      "münchen              14\n",
      "hamburg              11\n",
      "frankfurt_am_main     9\n",
      "Name: tokenized_location, dtype: int64\n"
     ]
    }
   ],
   "source": [
    "printTopHiringLocations(all_jobs)"
   ]
  },
  {
   "cell_type": "markdown",
   "id": "118334f5",
   "metadata": {},
   "source": [
    "## Features"
   ]
  },
  {
   "cell_type": "code",
   "execution_count": 76,
   "id": "64551f25",
   "metadata": {},
   "outputs": [],
   "source": [
    "def printTopHiringLocations(df):\n",
    "    df[\"tokenized_location\"] = \"\"\n",
    "    for index, row in df.iterrows():\n",
    "        # check for NaN\n",
    "        value = row[\"company_location\"]\n",
    "        #print(value)\n",
    "        if pd.isnull(value):\n",
    "            continue\n",
    "        else:\n",
    "            # lower all words\n",
    "            location = row.company_location.lower()\n",
    "            \n",
    "            location=location.replace(\"•\",\" \")\n",
    "\n",
    "            #tokenize location\n",
    "            location = word_tokenize(location)\n",
    "            \n",
    "            # handle multi words\n",
    "            tokenizer = MWETokenizer([(\"home\", \"office\"), (\"frankfurt\", \"am\", \"main\"), (\"bad\", \"homburg\")])\n",
    "            location = tokenizer.tokenize(location)\n",
    "            \n",
    "            #row.tokenized_location = [x.replace(\"ü\",\"ue\") for x in location]\n",
    "            row.tokenized_location =location\n",
    "    # explode data frame\n",
    "    df = df.explode(\"tokenized_location\")\n",
    "    # cleaning\n",
    "    df[\"tokenized_location\"] = df[\"tokenized_location\"].replace(\"home_office\",\"homeoffice\")\n",
    "    # get top locations \n",
    "    series = df.tokenized_location.value_counts().head(6)\n",
    "    # print and drop first empty row\n",
    "    print(series.drop(series.index[0]))"
   ]
  },
  {
   "cell_type": "code",
   "execution_count": 12,
   "id": "f2e8f96e",
   "metadata": {},
   "outputs": [],
   "source": [
    "def tokenizeDescription(df):\n",
    "    tokenized_df = df\n",
    "    # create new column for tokens\n",
    "    tokenized_df[\"tokenized_description\"] = \"\"\n",
    "    # iterate over rows\n",
    "    for index, row in tokenized_df.iterrows():\n",
    "        # lower all words\n",
    "        description = row.job_description.lower()\n",
    "\n",
    "        # tokenize description\n",
    "        description = word_tokenize(description)\n",
    "\n",
    "        # remove duplicates\n",
    "        description = list(set(description))\n",
    "\n",
    "        # remove stopwords etc (english)\n",
    "        description = [word for word in description if word not in stopwords.words(\"english\")]\n",
    "\n",
    "        # remove stopwords etc (german)\n",
    "        description = [word for word in description if word not in stopwords.words(\"german\")]\n",
    "\n",
    "        # add to new \"tokenized_description\" column\n",
    "        row.tokenized_description=description\n",
    "    return tokenized_df\n",
    "        "
   ]
  },
  {
   "cell_type": "code",
   "execution_count": 13,
   "id": "bd6d2939",
   "metadata": {},
   "outputs": [],
   "source": [
    "def plotSkillSet(df, keywords,title): \n",
    "    # get all keywords\n",
    "    count_keywords=pd.DataFrame(df.tokenized_description.sum()).value_counts().\\\n",
    "        rename_axis(\"keywords\").reset_index(name=\"counts\")\n",
    "    # get ammount of jobs\n",
    "    length =len(all_jobs)\n",
    "\n",
    "    # calculate proportion\n",
    "    count_keywords[\"percentage\"] = 100 * count_keywords.counts / length\n",
    "\n",
    "    # plotting\n",
    "    count_keywords = count_keywords[count_keywords.keywords.isin(keywords)]\n",
    "    count_keywords = count_keywords.head(10)\n",
    "\n",
    "    graph = seaborn.barplot(x=\"keywords\", y=\"percentage\", data = count_keywords)\n",
    "    graph.set_xticklabels(graph.get_xticklabels(), \n",
    "                            rotation=45, \n",
    "                            horizontalalignment='right')\n",
    "    plt.xlabel(\"\")\n",
    "    plt.ylabel(\"Probability to be in job posting (%)\")\n",
    "    plt.title(title) \n",
    "    plt.show(graph)\n",
    "    print(count_keywords)\n",
    "\n"
   ]
  },
  {
   "cell_type": "code",
   "execution_count": 54,
   "id": "2e4543c9",
   "metadata": {},
   "outputs": [],
   "source": [
    "def buildWordCloud(df,keywords):\n",
    "    # initialize empty string\n",
    "    text = \"\"\n",
    "    # initialize empty list\n",
    "    flat_list = []\n",
    "    # get all tokenized descriptions as list\n",
    "    tokenized_description_list = tokenized_df.tokenized_description.tolist()\n",
    "    # flatten list \n",
    "    for sublist in tokenized_description_list:\n",
    "        for item in sublist:\n",
    "            flat_list.append(item)           \n",
    "    # filter for keywords\n",
    "    keywords_only = [item for item in flat_list if item in keywords]\n",
    "    # build string for wordcloud\n",
    "    text = \" \".join(word for word in keywords_only)\n",
    "    # build wordcloud\n",
    "    wc = WordCloud(background_color=\"white\", collocations=False).generate(text)\n",
    "    # show wordcloud\n",
    "    plt.imshow(wc, interpolation='bilinear')\n",
    "    plt.axis(\"off\")\n",
    "    plt.show()\n",
    "    "
   ]
  },
  {
   "cell_type": "markdown",
   "id": "d70a491e",
   "metadata": {},
   "source": [
    "## Tokenize Description"
   ]
  },
  {
   "cell_type": "code",
   "execution_count": 15,
   "id": "b66da534",
   "metadata": {},
   "outputs": [],
   "source": [
    "tokenized_df = tokenizeDescription(all_jobs)"
   ]
  },
  {
   "cell_type": "markdown",
   "id": "959f2143",
   "metadata": {},
   "source": [
    "## Keywords"
   ]
  },
  {
   "cell_type": "code",
   "execution_count": 63,
   "id": "638790f2",
   "metadata": {},
   "outputs": [],
   "source": [
    "# analyst skills\n",
    "keywords = [\"excel\" , \"python\" , \"r\" ,\"matlab\", \"ai\", \"ki\", \"mysql\" , \"linux\", \"c\",\n",
    "            \"visio\", \"java\", \"javascript\", \"vba\", \"powerpoint\", \"github\", \"git\", \"gitlab\",\n",
    "            \"sql\", \"mysql\", \"sqlight\"]"
   ]
  },
  {
   "cell_type": "markdown",
   "id": "22c20805",
   "metadata": {},
   "source": [
    "## Data Analyst Skills"
   ]
  },
  {
   "cell_type": "code",
   "execution_count": 64,
   "id": "9841f87c",
   "metadata": {},
   "outputs": [
    {
     "data": {
      "image/png": "[encoded data removed]",
      "text/plain": [
       "<Figure size 432x288 with 1 Axes>"
      ]
     },
     "metadata": {
      "needs_background": "light"
     },
     "output_type": "display_data"
    },
    {
     "name": "stdout",
     "output_type": "stream",
     "text": [
      "        keywords  counts  percentage\n",
      "32           sql     123   40.196078\n",
      "61        python      94   30.718954\n",
      "213        excel      54   17.647059\n",
      "255            r      49   16.013072\n",
      "817   powerpoint      20    6.535948\n",
      "833         java      19    6.209150\n",
      "1117  javascript      15    4.901961\n",
      "1715         git       9    2.941176\n",
      "1844         vba       9    2.941176\n",
      "1856           c       9    2.941176\n"
     ]
    }
   ],
   "source": [
    "plotSkillSet(tokenized_df, keywords, \"Data Analyst Skills\")"
   ]
  },
  {
   "cell_type": "markdown",
   "id": "29415d38",
   "metadata": {},
   "source": [
    "## Wordcloud"
   ]
  },
  {
   "cell_type": "code",
   "execution_count": 65,
   "id": "b246a057",
   "metadata": {},
   "outputs": [
    {
     "data": {
      "image/png": "[encoded data removed]",
      "text/plain": [
       "<Figure size 432x288 with 1 Axes>"
      ]
     },
     "metadata": {
      "needs_background": "light"
     },
     "output_type": "display_data"
    }
   ],
   "source": [
    "buildWordCloud(tokenized_df, keywords)"
   ]
  },
  {
   "cell_type": "markdown",
   "id": "6cc473f5",
   "metadata": {},
   "source": [
    "### Python vs R"
   ]
  },
  {
   "cell_type": "code",
   "execution_count": 78,
   "id": "1868cfc9",
   "metadata": {},
   "outputs": [
    {
     "data": {
      "image/png": "[encoded data removed]",
      "text/plain": [
       "<Figure size 432x288 with 1 Axes>"
      ]
     },
     "metadata": {
      "needs_background": "light"
     },
     "output_type": "display_data"
    },
    {
     "name": "stdout",
     "output_type": "stream",
     "text": [
      "    keywords  counts  percentage\n",
      "61    python      94   27.089337\n",
      "255        r      49   14.121037\n"
     ]
    }
   ],
   "source": [
    "python_R_keywords = [\"python\" , \"r\"]\n",
    "plotSkillSet(tokenized_df,python_R_keywords, \"Python vs R\")"
   ]
  }
 ],
 "metadata": {
  "kernelspec": {
   "display_name": "Python 3",
   "language": "python",
   "name": "python3"
  },
  "language_info": {
   "codemirror_mode": {
    "name": "ipython",
    "version": 3
   },
   "file_extension": ".py",
   "mimetype": "text/x-python",
   "name": "python",
   "nbconvert_exporter": "python",
   "pygments_lexer": "ipython3",
   "version": "3.8.8"
  }
 },
 "nbformat": 4,
 "nbformat_minor": 5
}
