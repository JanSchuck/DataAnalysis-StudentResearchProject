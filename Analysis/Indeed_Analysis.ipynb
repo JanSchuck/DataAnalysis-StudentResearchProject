{
 "cells": [
  {
   "cell_type": "markdown",
   "id": "a55ac1df",
   "metadata": {},
   "source": [
    "# Indeed Job Analysis"
   ]
  },
  {
   "cell_type": "markdown",
   "id": "cddb8a1b",
   "metadata": {},
   "source": [
    "## Imports"
   ]
  },
  {
   "cell_type": "code",
   "execution_count": 36,
   "id": "1728d692",
   "metadata": {},
   "outputs": [],
   "source": [
    "# Pandas is an open source data analysis and manipulation tool\n",
    "import pandas as pd \n",
    "\n",
    "# os gives access to the operating system\n",
    "import os\n",
    "\n",
    "# regex library\n",
    "import re\n",
    "\n",
    "# Natural language toolkit\n",
    "from nltk.tokenize import word_tokenize\n",
    "from nltk.corpus import stopwords\n",
    "\n",
    "# library to create visualizations\n",
    "import seaborn\n",
    "# library to create visualizations\n",
    "import matplotlib.pyplot as plt\n",
    "\n",
    "\n",
    "# only run below once\n",
    "#import nltk\n",
    "#nltk.download(\"punkt\")\n",
    "#nltk.download(\"stopwords\")"
   ]
  },
  {
   "cell_type": "markdown",
   "id": "252b3b0b",
   "metadata": {},
   "source": [
    "## Load data"
   ]
  },
  {
   "cell_type": "code",
   "execution_count": 37,
   "id": "b57b22b2",
   "metadata": {},
   "outputs": [],
   "source": [
    "# folder path to data\n",
    "folder_path = \"/Users/jan/Documents/7.Semester/Datenanalyse in der Praxis/SeminarArbeit/Data\"\n",
    "# change directory to folder path\n",
    "os.chdir(folder_path)\n",
    "# initialize list for all csvs\n",
    "All_CSVs=[]\n",
    "#iterate over every file in folder\n",
    "for file in os.listdir():\n",
    "    if file.endswith(\".csv\"):   \n",
    "        # csv to dataframe\n",
    "        df =pd.read_csv(file, index_col=[0], header=0)\n",
    "        # append data frame to all csvs list\n",
    "        All_CSVs.append(df)\n",
    "# concat all jobs to one data frame\n",
    "all_jobs = pd.concat(All_CSVs, axis=0, ignore_index=True)\n",
    "\n",
    "# drop duplicates\n",
    "all_jobs = all_jobs.drop_duplicates(subset=[\"1\",\"2\",\"5\"],keep=\"last\")\n",
    "\n",
    "# reindex\n",
    "all_jobs = all_jobs.reset_index(drop=True)\n",
    "\n",
    "# rename\n",
    "all_jobs = all_jobs.rename(columns={'0': 'job_id',\"1\" : \"job_title\",\"2\" : \"company_name\",\"3\" : \"company_location\",\"4\" : \"type_of_job\",\"5\" : \"job_description\",\"6\" : \"date_info\"})\n",
    "\n"
   ]
  },
  {
   "cell_type": "code",
   "execution_count": 38,
   "id": "266e471d",
   "metadata": {},
   "outputs": [
    {
     "name": "stdout",
     "output_type": "stream",
     "text": [
      "<class 'pandas.core.frame.DataFrame'>\n",
      "RangeIndex: 447 entries, 0 to 446\n",
      "Data columns (total 6 columns):\n",
      " #   Column            Non-Null Count  Dtype \n",
      "---  ------            --------------  ----- \n",
      " 0   job_title         446 non-null    object\n",
      " 1   company_name      442 non-null    object\n",
      " 2   company_location  129 non-null    object\n",
      " 3   type_of_job       130 non-null    object\n",
      " 4   job_description   446 non-null    object\n",
      " 5   date_info         447 non-null    object\n",
      "dtypes: object(6)\n",
      "memory usage: 21.1+ KB\n"
     ]
    }
   ],
   "source": [
    "all_jobs.info()"
   ]
  },
  {
   "cell_type": "markdown",
   "id": "8ecfca5f",
   "metadata": {},
   "source": [
    "## Clean Data"
   ]
  },
  {
   "cell_type": "markdown",
   "id": "762d2985",
   "metadata": {},
   "source": [
    "### Clean Job Title"
   ]
  },
  {
   "cell_type": "code",
   "execution_count": 39,
   "id": "4d6b4a7f",
   "metadata": {},
   "outputs": [],
   "source": [
    "all_jobs[\"job_title\"] =  all_jobs[\"job_title\"].astype(str)\n",
    "all_jobs[\"job_title\"] =  all_jobs[\"job_title\"].str.replace(\"\\n- job post\" , \"\")\n",
    "all_jobs[\"job_title\"] =  all_jobs[\"job_title\"].str.replace(\"\\([mwdf]\\/[mwdf]\\/[mwdf]\\)\" , \"\", regex=True)"
   ]
  },
  {
   "cell_type": "markdown",
   "id": "9e288e49",
   "metadata": {},
   "source": [
    "### Clean job_description"
   ]
  },
  {
   "cell_type": "code",
   "execution_count": 40,
   "id": "fbe35b6e",
   "metadata": {},
   "outputs": [],
   "source": [
    "all_jobs[\"job_description\"] =all_jobs[\"job_description\"].astype(str)"
   ]
  },
  {
   "cell_type": "markdown",
   "id": "e04bb41d",
   "metadata": {},
   "source": [
    "## Job Titles"
   ]
  },
  {
   "cell_type": "code",
   "execution_count": 41,
   "id": "0ca4aa1a",
   "metadata": {},
   "outputs": [
    {
     "data": {
      "text/plain": [
       "Data Analyst                             30\n",
       "Business Analyst                          5\n",
       "(Senior) Data Analyst                     5\n",
       "Senior Data Analyst                       4\n",
       "Junior Data Analyst                       3\n",
       "Senior Business Intelligence Analyst      3\n",
       "Business Analyst                          3\n",
       "DATA ANALYST (M/W/D)                      3\n",
       "(Junior) Data Analyst                     3\n",
       "Senior Data Engineer                      3\n",
       "Name: job_title, dtype: int64"
      ]
     },
     "execution_count": 41,
     "metadata": {},
     "output_type": "execute_result"
    }
   ],
   "source": [
    "all_jobs.job_title.value_counts().head(10)"
   ]
  },
  {
   "cell_type": "markdown",
   "id": "4b8768e7",
   "metadata": {},
   "source": [
    "## Top hiring companies"
   ]
  },
  {
   "cell_type": "code",
   "execution_count": 42,
   "id": "fa281c68",
   "metadata": {},
   "outputs": [
    {
     "data": {
      "text/plain": [
       "Handelsblatt GmbH        6\n",
       "Salesforce               5\n",
       "Zalando                  4\n",
       "Arvato infoscore GmbH    4\n",
       "CareerFoundry GmbH       4\n",
       "ALDI SÜD                 4\n",
       "Zalando SE               3\n",
       "TUI                      3\n",
       "Taxfix                   3\n",
       "Solactive AG             3\n",
       "Name: company_name, dtype: int64"
      ]
     },
     "execution_count": 42,
     "metadata": {},
     "output_type": "execute_result"
    }
   ],
   "source": [
    "all_jobs.company_name.value_counts().head(10) "
   ]
  },
  {
   "cell_type": "markdown",
   "id": "2a98a513",
   "metadata": {},
   "source": [
    "## Top hiring locations"
   ]
  },
  {
   "cell_type": "code",
   "execution_count": 43,
   "id": "5dbf1fb9",
   "metadata": {},
   "outputs": [
    {
     "data": {
      "text/plain": [
       "Berlin                                           31\n",
       "Frankfurt am Main                                 9\n",
       "Home Office•Homeoffice                            8\n",
       "München                                           8\n",
       "Hamburg                                           7\n",
       "Köln                                              4\n",
       "Düsseldorf                                        3\n",
       "Frankfurt am Main•Vorübergehend im Homeoffice     2\n",
       "10117 Berlin                                      2\n",
       "22335 Hamburg                                     2\n",
       "Name: company_location, dtype: int64"
      ]
     },
     "execution_count": 43,
     "metadata": {},
     "output_type": "execute_result"
    }
   ],
   "source": [
    "all_jobs.company_location.value_counts().head(10)"
   ]
  },
  {
   "cell_type": "markdown",
   "id": "df77d6b6",
   "metadata": {},
   "source": [
    "# Analysis"
   ]
  },
  {
   "cell_type": "code",
   "execution_count": 44,
   "id": "fe915744",
   "metadata": {},
   "outputs": [],
   "source": [
    "# keyword to search for\n",
    "keywords = [\"excel\" , \"python\" , \"r\" ,\"matlab\", \"ai\", \"ki\", \"mysql\" , \"linux\", \"c\",\n",
    "            \"visio\", \"java\", \"javascript\", \"vba\", \"powerpoint\", \"github\", \"git\", \"gitlab\",\n",
    "            \"sql\", \"mysql\", \"sqlight\"]"
   ]
  },
  {
   "cell_type": "markdown",
   "id": "3fbe895a",
   "metadata": {},
   "source": [
    "### Tokenize description"
   ]
  },
  {
   "cell_type": "code",
   "execution_count": 45,
   "id": "d73d146b",
   "metadata": {},
   "outputs": [],
   "source": [
    "# create new column for tokens\n",
    "all_jobs[\"tokenized_description\"] = \"\"\n",
    "# iterate over rows\n",
    "for index, row in all_jobs.iterrows():\n",
    "    # lower all words\n",
    "    description = row.job_description.lower()\n",
    "    \n",
    "    # tokenize description\n",
    "    description = word_tokenize(description)\n",
    "    \n",
    "    # remove duplicates\n",
    "    description = list(set(description))\n",
    "    \n",
    "    # remove stopwords etc (english)\n",
    "    description = [word for word in description if word not in stopwords.words(\"english\")]\n",
    "    \n",
    "    # remove stopwords etc (german)\n",
    "    description = [word for word in description if word not in stopwords.words(\"german\")]\n",
    "    \n",
    "    # add to new \"tokenized_description\" column\n",
    "    row.tokenized_description=description\n",
    "    \n",
    "    "
   ]
  },
  {
   "cell_type": "markdown",
   "id": "118334f5",
   "metadata": {},
   "source": [
    "### Count keywords"
   ]
  },
  {
   "cell_type": "code",
   "execution_count": 46,
   "id": "bd6d2939",
   "metadata": {},
   "outputs": [
    {
     "data": {
      "image/png": "[encoded data removed]",
      "text/plain": [
       "<Figure size 432x288 with 1 Axes>"
      ]
     },
     "metadata": {
      "needs_background": "light"
     },
     "output_type": "display_data"
    },
    {
     "name": "stdout",
     "output_type": "stream",
     "text": [
      "        keywords  counts  percentage\n",
      "19           sql     182   40.715884\n",
      "43        python     140   31.319911\n",
      "121        excel      93   20.805369\n",
      "198            r      75   16.778523\n",
      "867   powerpoint      26    5.816555\n",
      "1147         vba      20    4.474273\n",
      "1166        java      20    4.474273\n",
      "1232  javascript      19    4.250559\n",
      "1728           c      13    2.908277\n",
      "1861       mysql      12    2.684564\n"
     ]
    }
   ],
   "source": [
    "#get all keywords\n",
    "count_keywords=pd.DataFrame(all_jobs.tokenized_description.sum()).value_counts().rename_axis(\"keywords\").reset_index(name=\"counts\")\n",
    "length =len(all_jobs)\n",
    "\n",
    "# \n",
    "count_keywords[\"percentage\"] = 100 * count_keywords.counts / length\n",
    "\n",
    "# plotting\n",
    "count_keywords = count_keywords[count_keywords.keywords.isin(keywords)]\n",
    "count_keywords = count_keywords.head(10)\n",
    "\n",
    "graph = seaborn.barplot(x=\"keywords\", y=\"percentage\", data = count_keywords)\n",
    "graph.set_xticklabels(graph.get_xticklabels(), \n",
    "                        rotation=45, \n",
    "                        horizontalalignment='right')\n",
    "plt.xlabel(\"\")\n",
    "plt.ylabel(\"Probability to be in job posting (%)\")\n",
    "plt.title(\"Data Analyst Skills\") \n",
    "plt.show(graph)\n",
    "print(count_keywords)\n",
    "\n"
   ]
  }
 ],
 "metadata": {
  "kernelspec": {
   "display_name": "Python 3",
   "language": "python",
   "name": "python3"
  },
  "language_info": {
   "codemirror_mode": {
    "name": "ipython",
    "version": 3
   },
   "file_extension": ".py",
   "mimetype": "text/x-python",
   "name": "python",
   "nbconvert_exporter": "python",
   "pygments_lexer": "ipython3",
   "version": "3.8.8"
  }
 },
 "nbformat": 4,
 "nbformat_minor": 5
}
