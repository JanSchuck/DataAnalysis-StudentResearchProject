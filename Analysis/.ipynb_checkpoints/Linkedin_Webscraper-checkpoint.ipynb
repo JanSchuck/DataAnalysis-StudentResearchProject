{
 "cells": [
  {
   "cell_type": "markdown",
   "id": "31679241",
   "metadata": {},
   "source": [
    "# Webscraping Linkedin"
   ]
  },
  {
   "cell_type": "markdown",
   "id": "eedfe8b4",
   "metadata": {},
   "source": [
    "## Imports"
   ]
  },
  {
   "cell_type": "code",
   "execution_count": 20,
   "id": "5c7035da",
   "metadata": {},
   "outputs": [],
   "source": [
    "import time\n",
    "import datetime\n",
    "from selenium import webdriver\n",
    "from selenium.webdriver.chrome.options import Options\n",
    "from selenium.webdriver.common.by import By\n",
    "from selenium.webdriver.support.ui import WebDriverWait\n",
    "from selenium.webdriver.support import expected_conditions as EC\n",
    "from selenium.webdriver.chrome.service import Service\n",
    "\n",
    "import os\n",
    "import csv\n",
    "import logging"
   ]
  },
  {
   "cell_type": "markdown",
   "id": "9c1b4338",
   "metadata": {},
   "source": [
    "## Linkedin job search"
   ]
  },
  {
   "cell_type": "code",
   "execution_count": 59,
   "id": "730fbc2f",
   "metadata": {},
   "outputs": [],
   "source": [
    "def loggin():\n",
    "    Linkedin_url=\"https://www.linkedin.com/login/de?fromSignIn=true&trk=guest_homepage-basic_nav-header-signin\"\n",
    "    \n",
    "    # setup chrome to run headless\n",
    "    chrome_options = Options()\n",
    "    chrome_options.add_argument(\"--headless\")\n",
    "    chrome_options.add_argument(\"--window-size=1920,1080\")\n",
    "    \n",
    "    ser = Service(\"/Applications/chromedriver\")\n",
    "    \n",
    "    # start chrome driver\n",
    "    driver = webdriver.Chrome(service=ser)\n",
    "    driver.get(Linkedin_url)    \n",
    "    \n",
    "    #wait for cookies window\n",
    "    time.sleep(5)\n",
    "    \n",
    "    # accept cookies   \n",
    "    driver.find_element(By.XPATH, \"//*[@id=\\\"artdeco-global-alert-container\\\"]/div/section/div/div[2]/button[2]\").click()\n",
    "        \n",
    "    # login\n",
    "    driver.find_element(By.XPATH,\"//*[@id=\\\"username\\\"]\").send_keys(\"holleombre@tempr.email\")\n",
    "    driver.find_element(By.XPATH, \"//*[@id=\\\"password\\\"]\").send_keys(\"Holle123!\")\n",
    "    \n",
    "    driver.find_element(By.XPATH, \"//*[@id=\\\"organic-div\\\"]/form/div[3]/button\").click()\n",
    "    \n",
    "    \n",
    "    return driver\n",
    "    \n",
    "    \n",
    "def startJobSearch(driver):\n",
    "    \n",
    "    #loading time \n",
    "    loadingTime=10\n",
    "    loadingTime2=5\n",
    "    \n",
    "    # retry if running into errors\n",
    "    attempts=3\n",
    "    \n",
    "    #wait to load\n",
    "    time.sleep(loadingTime)\n",
    "\n",
    "    # navigate to search engine\n",
    "    driver.get(\"https://www.linkedin.com/jobs/search/?geoId=101282230&keywords=Data%20Analyst&location=Deutschland\")\n",
    "    \n",
    "    # wait to load\n",
    "    time.sleep(loadingTime)\n",
    "    \n",
    "    # get all job id's\n",
    "    job_ids=[]\n",
    "    for attempt in range(attempts):\n",
    "        try:\n",
    "            job_list = driver.find_element(By.XPATH, \"/html/body/div[6]/div[3]/div[3]/div[2]/div/section[1]/div/div/ul\")\n",
    "            jobs = job_list.find_elements(By.TAG_NAME, \"li\")\n",
    "            for job in jobs:\n",
    "                if job.get_attribute(\"id\") != \"\":\n",
    "                    id=job.get_attribute(\"id\")\n",
    "                    job_ids.append(id)\n",
    "            # job_ids=[result.get_attribute(\"id\") for result in job_list if result.get_attribute(\"id\")!=\"\"]\n",
    "            break\n",
    "        except:\n",
    "            time.sleep(loadingTime2)\n",
    "\n",
    "    # iterate over every job item\n",
    "\n",
    "    for id in job_ids:\n",
    "        try:\n",
    "            driver.find_element(By.XPATH, f\"//*[@id=\\\"{id}\\\"]\").click()\n",
    "            time.sleep(1)\n",
    "        except:\n",
    "            continue\n",
    "        \n",
    "    # try get job title\n",
    "        for attempt in range(attempts):\n",
    "            try:\n",
    "                job_title = driver.find_element(By.XPATH,\"//h2[@class='t-24 t-bold']\") \n",
    "                job_title = job_title.text\n",
    "                break\n",
    "            except:\n",
    "                job_title = ''\n",
    "                time.sleep(click_wait)\n",
    "            \n",
    "    # try get location and company\n",
    "        for attempt in range(attempts):\n",
    "            try:\n",
    "                job_header = driver.find_element(By.XPATH,\"//span[@class='jobs-unified-top-card__subtitle-primary-grouping mr2 t-black']\").find_elements(By.TAG_NAME,\"span\")\n",
    "                company = job_header[0].text\n",
    "                location = job_header[1].text\n",
    "                break\n",
    "            except:\n",
    "                company = ''\n",
    "                location = ''\n",
    "                time.sleep(loadingTime2)\n",
    "            \n",
    "        for attempt in range(attempts):\n",
    "            try:\n",
    "                job_top_card2=driver.find_element(By.XPATH,\"/html/body/div[6]/div[3]/div[3]/div[2]/div/section[2]/div/div/div[1]/div/div[1]/div/div[2]/div[2]\")\n",
    "                firstRow=job_top_card2[0].text\n",
    "                secondRow=job_top_card2[1].text\n",
    "                firstRowList=firstRow.split(\"·\")\n",
    "                secondRowList=secondRow.split(\"·\")\n",
    "                try:\n",
    "                    type_of_employment=firstRowList[0]\n",
    "                except:\n",
    "                    type_of_employment=\"\"\n",
    "                try:                   \n",
    "                    position=firstRowList[1]\n",
    "                except:\n",
    "                    position=\"\"\n",
    "                try:\n",
    "                    ammount_of_employees=secondRowList[0]\n",
    "                except:\n",
    "                    ammount_of_employees=\"\"\n",
    "                try:\n",
    "                    sector=secondRowList[1]\n",
    "                except:\n",
    "                    sector=\"\"\n",
    "\n",
    "#def startScraping(driver):\n",
    "    \n",
    "    \n",
    "    \n",
    "        \n",
    "    \n",
    "    \n",
    "    "
   ]
  },
  {
   "cell_type": "markdown",
   "id": "9232b08e",
   "metadata": {},
   "source": [
    "## Main"
   ]
  },
  {
   "cell_type": "code",
   "execution_count": 60,
   "id": "65e1710f",
   "metadata": {},
   "outputs": [
    {
     "ename": "KeyboardInterrupt",
     "evalue": "",
     "output_type": "error",
     "traceback": [
      "\u001b[0;31m---------------------------------------------------------------------------\u001b[0m",
      "\u001b[0;31mKeyboardInterrupt\u001b[0m                         Traceback (most recent call last)",
      "\u001b[0;32m<ipython-input-60-814da5eccda7>\u001b[0m in \u001b[0;36m<module>\u001b[0;34m\u001b[0m\n\u001b[1;32m      1\u001b[0m \u001b[0mdriver\u001b[0m\u001b[0;34m=\u001b[0m\u001b[0mloggin\u001b[0m\u001b[0;34m(\u001b[0m\u001b[0;34m)\u001b[0m\u001b[0;34m\u001b[0m\u001b[0;34m\u001b[0m\u001b[0m\n\u001b[0;32m----> 2\u001b[0;31m \u001b[0mstartJobSearch\u001b[0m\u001b[0;34m(\u001b[0m\u001b[0mdriver\u001b[0m\u001b[0;34m)\u001b[0m\u001b[0;34m\u001b[0m\u001b[0;34m\u001b[0m\u001b[0m\n\u001b[0m",
      "\u001b[0;32m<ipython-input-59-ec01e273f7b8>\u001b[0m in \u001b[0;36mstartJobSearch\u001b[0;34m(driver)\u001b[0m\n\u001b[1;32m     98\u001b[0m \u001b[0;34m\u001b[0m\u001b[0m\n\u001b[1;32m     99\u001b[0m \u001b[0;34m\u001b[0m\u001b[0m\n\u001b[0;32m--> 100\u001b[0;31m         \u001b[0mtime\u001b[0m\u001b[0;34m.\u001b[0m\u001b[0msleep\u001b[0m\u001b[0;34m(\u001b[0m\u001b[0;36m20\u001b[0m\u001b[0;34m)\u001b[0m\u001b[0;34m\u001b[0m\u001b[0;34m\u001b[0m\u001b[0m\n\u001b[0m\u001b[1;32m    101\u001b[0m \u001b[0;31m#def startScraping(driver):\u001b[0m\u001b[0;34m\u001b[0m\u001b[0;34m\u001b[0m\u001b[0;34m\u001b[0m\u001b[0m\n\u001b[1;32m    102\u001b[0m \u001b[0;34m\u001b[0m\u001b[0m\n",
      "\u001b[0;31mKeyboardInterrupt\u001b[0m: "
     ]
    }
   ],
   "source": [
    "driver=loggin()\n",
    "startJobSearch(driver)"
   ]
  }
 ],
 "metadata": {
  "kernelspec": {
   "display_name": "Python 3",
   "language": "python",
   "name": "python3"
  },
  "language_info": {
   "codemirror_mode": {
    "name": "ipython",
    "version": 3
   },
   "file_extension": ".py",
   "mimetype": "text/x-python",
   "name": "python",
   "nbconvert_exporter": "python",
   "pygments_lexer": "ipython3",
   "version": "3.8.8"
  }
 },
 "nbformat": 4,
 "nbformat_minor": 5
}
